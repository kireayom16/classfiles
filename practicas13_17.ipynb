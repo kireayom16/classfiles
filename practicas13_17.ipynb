{
  "nbformat": 4,
  "nbformat_minor": 0,
  "metadata": {
    "colab": {
      "provenance": [],
      "mount_file_id": "1XbymAtur3Iw4xwYHWc7vFau1yNCzLNkC",
      "authorship_tag": "ABX9TyN2BQownr2Kq+QPHEu0iguf",
      "include_colab_link": true
    },
    "kernelspec": {
      "name": "python3",
      "display_name": "Python 3"
    },
    "language_info": {
      "name": "python"
    }
  },
  "cells": [
    {
      "cell_type": "markdown",
      "metadata": {
        "id": "view-in-github",
        "colab_type": "text"
      },
      "source": [
        "<a href=\"https://colab.research.google.com/github/kireayom16/classfiles/blob/main/practicas13_17.ipynb\" target=\"_parent\"><img src=\"https://colab.research.google.com/assets/colab-badge.svg\" alt=\"Open In Colab\"/></a>"
      ]
    },
    {
      "cell_type": "code",
      "execution_count": 7,
      "metadata": {
        "colab": {
          "base_uri": "https://localhost:8080/"
        },
        "collapsed": true,
        "id": "ZyY2t-Q114K2",
        "outputId": "4414344f-4712-4195-e664-d744b696dab3"
      },
      "outputs": [
        {
          "output_type": "stream",
          "name": "stdout",
          "text": [
            "      Unnamed: 0  BOROUGH NEIGHBORHOOD  \\\n",
            "84545       8411      5.0      WOODROW   \n",
            "84546       8412      5.0      WOODROW   \n",
            "84547       8413      5.0      WOODROW   \n",
            "\n",
            "                           BUILDING CLASS CATEGORY TAX CLASS AT PRESENT  \\\n",
            "84545  02 TWO FAMILY DWELLINGS                                        1   \n",
            "84546  22 STORE BUILDINGS                                             4   \n",
            "84547  35 INDOOR PUBLIC AND CULTURAL FACILITIES                       4   \n",
            "\n",
            "        BLOCK    LOT EASE-MENT BUILDING CLASS AT PRESENT  \\\n",
            "84545  7351.0   60.0                                  B2   \n",
            "84546  7100.0   28.0                                  K6   \n",
            "84547  7105.0  679.0                                  P9   \n",
            "\n",
            "                     ADDRESS  ... RESIDENTIAL UNITS  COMMERCIAL UNITS  \\\n",
            "84545       49 PITNEY AVENUE  ...               2.0               0.0   \n",
            "84546  2730 ARTHUR KILL ROAD  ...               0.0               7.0   \n",
            "84547      155 CLAY PIT ROAD  ...               0.0               1.0   \n",
            "\n",
            "       TOTAL UNITS  LAND SQUARE FEET  GROSS SQUARE FEET YEAR BUILT  \\\n",
            "84545          2.0              4000               1496     1925.0   \n",
            "84546          7.0            208033              64117     2001.0   \n",
            "84547          1.0             10796               2400     2006.0   \n",
            "\n",
            "      TAX CLASS AT TIME OF SALE  BUILDING CLASS AT TIME OF SALE  SALE PRICE  \\\n",
            "84545                       1.0                              B2      460000   \n",
            "84546                       4.0                              K6    11693337   \n",
            "84547                       4.0                              P9       69300   \n",
            "\n",
            "                 SALE DATE  \n",
            "84545  2017-07-05 00:00:00  \n",
            "84546  2016-12-21 00:00:00  \n",
            "84547  2016-10-27 00:00:00  \n",
            "\n",
            "[3 rows x 22 columns]\n",
            "Filas: 84548  Columnas: 22\n"
          ]
        },
        {
          "output_type": "stream",
          "name": "stderr",
          "text": [
            "/tmp/ipython-input-1115490497.py:5: DtypeWarning: Columns (0) have mixed types. Specify dtype option on import or set low_memory=False.\n",
            "  df = pd.read_csv(\"/content/drive/MyDrive/classfiles/unidad2/miaad-nyc-r-s.csv\").iloc[:-1, :]\n"
          ]
        }
      ],
      "source": [
        "# Práctica 13: Carga de Datos\n",
        "\n",
        "import pandas as pd\n",
        "\n",
        "df = pd.read_csv(\"/content/drive/MyDrive/classfiles/unidad2/miaad-nyc-r-s.csv\").iloc[:-1, :]\n",
        "\n",
        "# Mostrar últimas 3 filas (sin la línea irrelevante)\n",
        "\n",
        "print(df.tail(3))\n",
        "\n",
        "# Mostrar cantidad de filas y columnas\n",
        "\n",
        "print(\"Filas:\", df.shape[0], \" Columnas:\", df.shape[1])"
      ]
    },
    {
      "cell_type": "code",
      "source": [
        "# Práctica 14: Agregar una columna\n",
        "\n",
        "print(\"\\nNombres originales de las columnas:\",df.columns)\n",
        "\n",
        "if df.columns[0] != \"INDEX MIIAD\":\n",
        "    df.rename(columns={df.columns[0]: \"INDEX MIIAD\"}, inplace=True)\n",
        "\n",
        "print(\"\\nNombres corregidos de las columnas:\",df.columns)\n",
        "\n",
        "\n"
      ],
      "metadata": {
        "colab": {
          "base_uri": "https://localhost:8080/"
        },
        "collapsed": true,
        "id": "YtvbOiPQ30e-",
        "outputId": "0030e4a0-79dd-46e9-fdd7-8a5316662855"
      },
      "execution_count": 13,
      "outputs": [
        {
          "output_type": "stream",
          "name": "stdout",
          "text": [
            "\n",
            "Nombres originales de las columnas: Index(['index_miiad', 'borough', 'neighborhood', 'building_class_category',\n",
            "       'tax_class_at_present', 'block', 'lot', 'ease-ment',\n",
            "       'building_class_at_present', 'address', 'apartment_number', 'zip_code',\n",
            "       'residential_units', 'commercial_units', 'total_units',\n",
            "       'land_square_feet', 'gross_square_feet', 'year_built',\n",
            "       'tax_class_at_time_of_sale', 'building_class_at_time_of_sale',\n",
            "       'sale_price', 'sale_date'],\n",
            "      dtype='object')\n",
            "\n",
            "Nombres corregidos de las columnas: Index(['INDEX MIIAD', 'borough', 'neighborhood', 'building_class_category',\n",
            "       'tax_class_at_present', 'block', 'lot', 'ease-ment',\n",
            "       'building_class_at_present', 'address', 'apartment_number', 'zip_code',\n",
            "       'residential_units', 'commercial_units', 'total_units',\n",
            "       'land_square_feet', 'gross_square_feet', 'year_built',\n",
            "       'tax_class_at_time_of_sale', 'building_class_at_time_of_sale',\n",
            "       'sale_price', 'sale_date'],\n",
            "      dtype='object')\n"
          ]
        }
      ]
    },
    {
      "cell_type": "code",
      "source": [
        "# Práctica 15: Normalización de los nombres de las columnas\n",
        "\n",
        "df.norm = df.columns.str.strip().str.lower().str.replace(\" \", \"_\")\n",
        "\n",
        "print(\"\\nNombres de columnas normalizados:\",df.norm)"
      ],
      "metadata": {
        "colab": {
          "base_uri": "https://localhost:8080/"
        },
        "id": "Dqgi2H4G7Wt5",
        "outputId": "dea1bdaa-feb2-4d0c-9018-d7432bec5e77"
      },
      "execution_count": 17,
      "outputs": [
        {
          "output_type": "stream",
          "name": "stdout",
          "text": [
            "\n",
            "Nombres de columnas normalizados: Index(['index_miiad', 'borough', 'neighborhood', 'building_class_category',\n",
            "       'tax_class_at_present', 'block', 'lot', 'ease-ment',\n",
            "       'building_class_at_present', 'address', 'apartment_number', 'zip_code',\n",
            "       'residential_units', 'commercial_units', 'total_units',\n",
            "       'land_square_feet', 'gross_square_feet', 'year_built',\n",
            "       'tax_class_at_time_of_sale', 'building_class_at_time_of_sale',\n",
            "       'sale_price', 'sale_date'],\n",
            "      dtype='object')\n"
          ]
        }
      ]
    },
    {
      "cell_type": "code",
      "source": [
        "# Práctica 16: Errores en los Tipos de Datos\n",
        "\n",
        "print(df.dtypes)\n",
        "\n",
        "cols_float = [\"sale_price\", \"land_square_feet\", \"gross_square_feet\"]\n",
        "\n",
        "for col in cols_float:\n",
        "    df[col] = pd.to_numeric(df[col], errors=\"coerce\")\n",
        "\n",
        "print(\"\\nTipos de datos corregidos:\")\n",
        "print(df.dtypes)"
      ],
      "metadata": {
        "colab": {
          "base_uri": "https://localhost:8080/"
        },
        "id": "x1K5TuKv81-T",
        "outputId": "db53259d-0e5b-497d-8355-633676d7c03d"
      },
      "execution_count": 20,
      "outputs": [
        {
          "output_type": "stream",
          "name": "stdout",
          "text": [
            "INDEX MIIAD                        object\n",
            "borough                           float64\n",
            "neighborhood                       object\n",
            "building_class_category            object\n",
            "tax_class_at_present               object\n",
            "block                             float64\n",
            "lot                               float64\n",
            "ease-ment                          object\n",
            "building_class_at_present          object\n",
            "address                            object\n",
            "apartment_number                   object\n",
            "zip_code                          float64\n",
            "residential_units                 float64\n",
            "commercial_units                  float64\n",
            "total_units                       float64\n",
            "land_square_feet                  float64\n",
            "gross_square_feet                 float64\n",
            "year_built                        float64\n",
            "tax_class_at_time_of_sale         float64\n",
            "building_class_at_time_of_sale     object\n",
            "sale_price                        float64\n",
            "sale_date                          object\n",
            "dtype: object\n",
            "\n",
            "Tipos de datos corregidos:\n",
            "INDEX MIIAD                        object\n",
            "borough                           float64\n",
            "neighborhood                       object\n",
            "building_class_category            object\n",
            "tax_class_at_present               object\n",
            "block                             float64\n",
            "lot                               float64\n",
            "ease-ment                          object\n",
            "building_class_at_present          object\n",
            "address                            object\n",
            "apartment_number                   object\n",
            "zip_code                          float64\n",
            "residential_units                 float64\n",
            "commercial_units                  float64\n",
            "total_units                       float64\n",
            "land_square_feet                  float64\n",
            "gross_square_feet                 float64\n",
            "year_built                        float64\n",
            "tax_class_at_time_of_sale         float64\n",
            "building_class_at_time_of_sale     object\n",
            "sale_price                        float64\n",
            "sale_date                          object\n",
            "dtype: object\n"
          ]
        }
      ]
    },
    {
      "cell_type": "code",
      "source": [
        "# Práctica 17: Diccionario de Datos\n",
        "\n",
        "\n",
        "diccionario_datos = { col:{\"tipo_dato\": str(df[col].dtype), \"nulos\": df[col].isnull().sum(),\"ejemplo_valor\": df[col].dropna().iloc[0] if df[col].notnull().any() else None}\n",
        "    for col in df.columns}\n",
        "\n",
        "for columna, info in diccionario_datos.items():\n",
        "    print(f\"{columna}: {info}\")"
      ],
      "metadata": {
        "colab": {
          "base_uri": "https://localhost:8080/"
        },
        "id": "r2t_Hq0N9U76",
        "outputId": "d91cb2c4-fd7e-4e32-b3aa-a019863d5aa9"
      },
      "execution_count": 23,
      "outputs": [
        {
          "output_type": "stream",
          "name": "stdout",
          "text": [
            "INDEX MIIAD: {'tipo_dato': 'object', 'nulos': np.int64(0), 'ejemplo_valor': 4}\n",
            "borough: {'tipo_dato': 'float64', 'nulos': np.int64(0), 'ejemplo_valor': np.float64(1.0)}\n",
            "neighborhood: {'tipo_dato': 'object', 'nulos': np.int64(0), 'ejemplo_valor': 'ALPHABET CITY'}\n",
            "building_class_category: {'tipo_dato': 'object', 'nulos': np.int64(0), 'ejemplo_valor': '07 RENTALS - WALKUP APARTMENTS             '}\n",
            "tax_class_at_present: {'tipo_dato': 'object', 'nulos': np.int64(0), 'ejemplo_valor': '2A'}\n",
            "block: {'tipo_dato': 'float64', 'nulos': np.int64(0), 'ejemplo_valor': np.float64(392.0)}\n",
            "lot: {'tipo_dato': 'float64', 'nulos': np.int64(0), 'ejemplo_valor': np.float64(6.0)}\n",
            "ease-ment: {'tipo_dato': 'object', 'nulos': np.int64(0), 'ejemplo_valor': ' '}\n",
            "building_class_at_present: {'tipo_dato': 'object', 'nulos': np.int64(0), 'ejemplo_valor': 'C2'}\n",
            "address: {'tipo_dato': 'object', 'nulos': np.int64(0), 'ejemplo_valor': '153 AVENUE B'}\n",
            "apartment_number: {'tipo_dato': 'object', 'nulos': np.int64(0), 'ejemplo_valor': ' '}\n",
            "zip_code: {'tipo_dato': 'float64', 'nulos': np.int64(0), 'ejemplo_valor': np.float64(10009.0)}\n",
            "residential_units: {'tipo_dato': 'float64', 'nulos': np.int64(0), 'ejemplo_valor': np.float64(5.0)}\n",
            "commercial_units: {'tipo_dato': 'float64', 'nulos': np.int64(0), 'ejemplo_valor': np.float64(0.0)}\n",
            "total_units: {'tipo_dato': 'float64', 'nulos': np.int64(0), 'ejemplo_valor': np.float64(5.0)}\n",
            "land_square_feet: {'tipo_dato': 'float64', 'nulos': np.int64(26252), 'ejemplo_valor': np.float64(1633.0)}\n",
            "gross_square_feet: {'tipo_dato': 'float64', 'nulos': np.int64(27612), 'ejemplo_valor': np.float64(6440.0)}\n",
            "year_built: {'tipo_dato': 'float64', 'nulos': np.int64(0), 'ejemplo_valor': np.float64(1900.0)}\n",
            "tax_class_at_time_of_sale: {'tipo_dato': 'float64', 'nulos': np.int64(0), 'ejemplo_valor': np.float64(2.0)}\n",
            "building_class_at_time_of_sale: {'tipo_dato': 'object', 'nulos': np.int64(0), 'ejemplo_valor': 'C2'}\n",
            "sale_price: {'tipo_dato': 'float64', 'nulos': np.int64(14561), 'ejemplo_valor': np.float64(6625000.0)}\n",
            "sale_date: {'tipo_dato': 'object', 'nulos': np.int64(0), 'ejemplo_valor': '2017-07-19 00:00:00'}\n"
          ]
        }
      ]
    }
  ]
}