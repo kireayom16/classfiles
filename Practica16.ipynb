{
  "nbformat": 4,
  "nbformat_minor": 0,
  "metadata": {
    "colab": {
      "provenance": [],
      "mount_file_id": "1vAlQdevZusEYpqWpCkoF4an8T2Hbf1Bn",
      "authorship_tag": "ABX9TyMg5aub0wpOHcOakgJ00PSL",
      "include_colab_link": true
    },
    "kernelspec": {
      "name": "python3",
      "display_name": "Python 3"
    },
    "language_info": {
      "name": "python"
    }
  },
  "cells": [
    {
      "cell_type": "markdown",
      "metadata": {
        "id": "view-in-github",
        "colab_type": "text"
      },
      "source": [
        "<a href=\"https://colab.research.google.com/github/kireayom16/classfiles/blob/main/Practica16.ipynb\" target=\"_parent\"><img src=\"https://colab.research.google.com/assets/colab-badge.svg\" alt=\"Open In Colab\"/></a>"
      ]
    },
    {
      "cell_type": "code",
      "execution_count": 2,
      "metadata": {
        "colab": {
          "base_uri": "https://localhost:8080/"
        },
        "id": "ICLl_mFA2tm3",
        "outputId": "2905c795-263f-4211-b1e7-08d588d67b9e"
      },
      "outputs": [
        {
          "output_type": "stream",
          "name": "stdout",
          "text": [
            "Primeras filas del dataset:\n",
            "    Duration          Date  Pulse  Maxpulse  Calories\n",
            "0        60  '2020/12/01'    110       130     409.1\n",
            "1        60  '2020/12/02'    117       145     479.0\n",
            "2        60  '2020/12/03'    103       135     340.0\n",
            "3        45  '2020/12/04'    109       175     282.4\n",
            "4        45  '2020/12/05'    117       148     406.0\n",
            "\n",
            "Valores perdidos por columna:\n",
            " Duration    0\n",
            "Date        1\n",
            "Pulse       0\n",
            "Maxpulse    0\n",
            "Calories    2\n",
            "dtype: int64\n",
            "\n",
            "Media original de Calories: 304.68\n",
            "\n",
            "Media de Calories después de imputación: 304.67999999999995\n"
          ]
        },
        {
          "output_type": "stream",
          "name": "stderr",
          "text": [
            "/tmp/ipython-input-2398919988.py:17: FutureWarning: A value is trying to be set on a copy of a DataFrame or Series through chained assignment using an inplace method.\n",
            "The behavior will change in pandas 3.0. This inplace method will never work because the intermediate object on which we are setting values always behaves as a copy.\n",
            "\n",
            "For example, when doing 'df[col].method(value, inplace=True)', try using 'df.method({col: value}, inplace=True)' or df[col] = df[col].method(value) instead, to perform the operation inplace on the original object.\n",
            "\n",
            "\n",
            "  df['Calories'].fillna(df['Calories'].mean(), inplace=True)\n"
          ]
        }
      ],
      "source": [
        "# Ejercicio 01: Datos Perdidos\n",
        "\n",
        "\n",
        "import pandas as pd\n",
        "\n",
        "df = pd.read_csv('/content/drive/MyDrive/classfiles/unidad2/dirtydata.csv')\n",
        "\n",
        "\n",
        "print(\"Primeras filas del dataset:\\n\", df.head())\n",
        "\n",
        "\n",
        "print(\"\\nValores perdidos por columna:\\n\", df.isnull().sum())\n",
        "\n",
        "print(\"\\nMedia original de Calories:\", df['Calories'].mean())\n",
        "\n",
        "\n",
        "df['Calories'].fillna(df['Calories'].mean(), inplace=True)\n",
        "\n",
        "\n",
        "print(\"\\nMedia de Calories después de imputación:\", df['Calories'].mean())\n"
      ]
    },
    {
      "cell_type": "code",
      "source": [
        "# Ejercicio 02: Duplicidad Parcial (una columna: Duration)\n",
        "\n",
        "\n",
        "duplicados_duration = df.duplicated(subset=['Duration']).sum()\n",
        "print(\"\\nCantidad de registros duplicados en Duration:\", duplicados_duration)\n",
        "\n",
        "print(\"\\nConteo de valores en Duration:\\n\", df['Duration'].value_counts())\n",
        "\n",
        "df_sin_dup_duration = df.drop_duplicates(subset=['Duration'])\n",
        "print(\"\\nDataframe sin duplicados en Duration:\\n\", df_sin_dup_duration.head())"
      ],
      "metadata": {
        "colab": {
          "base_uri": "https://localhost:8080/"
        },
        "id": "WItrPfnG4vaW",
        "outputId": "8dc59524-0ee3-40fa-d4c1-280441e65edb"
      },
      "execution_count": 4,
      "outputs": [
        {
          "output_type": "stream",
          "name": "stdout",
          "text": [
            "\n",
            "Cantidad de registros duplicados en Duration: 28\n",
            "\n",
            "Conteo de valores en Duration:\n",
            " Duration\n",
            "60     24\n",
            "45      6\n",
            "450     1\n",
            "30      1\n",
            "Name: count, dtype: int64\n",
            "\n",
            "Dataframe sin duplicados en Duration:\n",
            "    Duration          Date  Pulse  Maxpulse  Calories\n",
            "0        60  '2020/12/01'    110       130     409.1\n",
            "3        45  '2020/12/04'    109       175     282.4\n",
            "7       450  '2020/12/08'    104       134     253.3\n",
            "8        30  '2020/12/09'    109       133     195.1\n"
          ]
        }
      ]
    },
    {
      "cell_type": "code",
      "source": [
        "# Ejercicio 03: Duplicidad Parcial (dos columnas: Pulse y Maxpulse)\n",
        "\n",
        "duplicados_pulse = df.duplicated(subset=['Pulse','Maxpulse']).sum()\n",
        "print(\"\\nCantidad de registros duplicados en Pulse y Maxpulse:\", duplicados_pulse)\n",
        "\n",
        "print(\"\\nConteo de combinaciones de Pulse y Maxpulse:\\n\", df[['Pulse','Maxpulse']].value_counts())\n",
        "\n",
        "df_sin_dup_pulse = df.drop_duplicates(subset=['Pulse','Maxpulse'], keep='last')\n",
        "print(\"\\nDataframe sin duplicados en Pulse y Maxpulse:\\n\", df_sin_dup_pulse.head())"
      ],
      "metadata": {
        "colab": {
          "base_uri": "https://localhost:8080/"
        },
        "id": "dOkZUEDU4vPr",
        "outputId": "38ee2525-32b4-4099-dd21-d8b1bfa9b07a"
      },
      "execution_count": 6,
      "outputs": [
        {
          "output_type": "stream",
          "name": "stdout",
          "text": [
            "\n",
            "Cantidad de registros duplicados en Pulse y Maxpulse: 3\n",
            "\n",
            "Conteo de combinaciones de Pulse y Maxpulse:\n",
            " Pulse  Maxpulse\n",
            "100    120         4\n",
            "92     115         1\n",
            "       118         1\n",
            "97     125         1\n",
            "90     112         1\n",
            "98     120         1\n",
            "       123         1\n",
            "       124         1\n",
            "100    119         1\n",
            "       132         1\n",
            "102    126         1\n",
            "       127         1\n",
            "       129         1\n",
            "103    123         1\n",
            "       132         1\n",
            "       135         1\n",
            "       147         1\n",
            "104    132         1\n",
            "       134         1\n",
            "105    132         1\n",
            "106    128         1\n",
            "108    131         1\n",
            "109    133         1\n",
            "       175         1\n",
            "110    130         1\n",
            "       136         1\n",
            "117    145         1\n",
            "       148         1\n",
            "130    101         1\n",
            "Name: count, dtype: int64\n",
            "\n",
            "Dataframe sin duplicados en Pulse y Maxpulse:\n",
            "    Duration          Date  Pulse  Maxpulse  Calories\n",
            "0        60  '2020/12/01'    110       130     409.1\n",
            "1        60  '2020/12/02'    117       145     479.0\n",
            "2        60  '2020/12/03'    103       135     340.0\n",
            "3        45  '2020/12/04'    109       175     282.4\n",
            "4        45  '2020/12/05'    117       148     406.0\n"
          ]
        }
      ]
    },
    {
      "cell_type": "code",
      "source": [
        "# Ejercicio 04: Duplicidad Total o Exacta\n",
        "\n",
        "duplicados_totales = df.duplicated().sum()\n",
        "print(\"\\nCantidad de registros duplicados exactos:\", duplicados_totales)\n",
        "\n",
        "df_sin_dup_total = df.drop_duplicates(keep='last')\n",
        "print(\"\\nDataframe sin duplicados exactos:\\n\", df_sin_dup_total.head())"
      ],
      "metadata": {
        "colab": {
          "base_uri": "https://localhost:8080/"
        },
        "id": "sfb8sPFT4vEf",
        "outputId": "3e5b4ccd-4801-4942-b569-44be163e1c10"
      },
      "execution_count": 7,
      "outputs": [
        {
          "output_type": "stream",
          "name": "stdout",
          "text": [
            "\n",
            "Cantidad de registros duplicados exactos: 1\n",
            "\n",
            "Dataframe sin duplicados exactos:\n",
            "    Duration          Date  Pulse  Maxpulse  Calories\n",
            "0        60  '2020/12/01'    110       130     409.1\n",
            "1        60  '2020/12/02'    117       145     479.0\n",
            "2        60  '2020/12/03'    103       135     340.0\n",
            "3        45  '2020/12/04'    109       175     282.4\n",
            "4        45  '2020/12/05'    117       148     406.0\n"
          ]
        }
      ]
    },
    {
      "cell_type": "code",
      "source": [
        "# Ejercicio 05: Media con duplicados y sin duplicados\n",
        "\n",
        "print(\"\\nMedia con duplicados:\")\n",
        "print(\"Pulse:\", df['Pulse'].mean())\n",
        "print(\"Maxpulse:\", df['Maxpulse'].mean())\n",
        "\n",
        "\n",
        "df_sin_duplicados_final = df.drop_duplicates(subset=['Pulse','Maxpulse'], keep='last')\n",
        "\n",
        "print(\"\\nMedia sin duplicados:\")\n",
        "print(\"Pulse:\", df_sin_duplicados_final['Pulse'].mean())\n",
        "print(\"Maxpulse:\", df_sin_duplicados_final['Maxpulse'].mean())"
      ],
      "metadata": {
        "colab": {
          "base_uri": "https://localhost:8080/"
        },
        "id": "SuotaaPJ4u17",
        "outputId": "057ae4d0-0d77-4c4b-b730-4ce8728e51cc"
      },
      "execution_count": 8,
      "outputs": [
        {
          "output_type": "stream",
          "name": "stdout",
          "text": [
            "\n",
            "Media con duplicados:\n",
            "Pulse: 103.5\n",
            "Maxpulse: 128.5\n",
            "\n",
            "Media sin duplicados:\n",
            "Pulse: 103.86206896551724\n",
            "Maxpulse: 129.3793103448276\n"
          ]
        }
      ]
    }
  ]
}