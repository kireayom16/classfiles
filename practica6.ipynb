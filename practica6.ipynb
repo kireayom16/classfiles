{
  "nbformat": 4,
  "nbformat_minor": 0,
  "metadata": {
    "colab": {
      "provenance": [],
      "mount_file_id": "1VxKRSSWXD7qCcRJYcCNeYfQfDUMzWQXG",
      "authorship_tag": "ABX9TyNtF9Q0ja349wp/+MpDxp8C",
      "include_colab_link": true
    },
    "kernelspec": {
      "name": "python3",
      "display_name": "Python 3"
    },
    "language_info": {
      "name": "python"
    }
  },
  "cells": [
    {
      "cell_type": "markdown",
      "metadata": {
        "id": "view-in-github",
        "colab_type": "text"
      },
      "source": [
        "<a href=\"https://colab.research.google.com/github/kireayom16/classfiles/blob/main/practica6.ipynb\" target=\"_parent\"><img src=\"https://colab.research.google.com/assets/colab-badge.svg\" alt=\"Open In Colab\"/></a>"
      ]
    },
    {
      "cell_type": "code",
      "execution_count": 10,
      "metadata": {
        "id": "P6IcmIN8ykb9"
      },
      "outputs": [],
      "source": [
        "import pandas as pd\n",
        "import numpy as np\n",
        "\n",
        "\n",
        "file_path = \"/content/drive/MyDrive/classfiles/titanic.csv\"\n",
        "df = pd.read_csv(file_path)\n"
      ]
    },
    {
      "cell_type": "code",
      "source": [
        "#ejercicio 1\n",
        "survival_rate = df.groupby([\"Sex\", \"Pclass\"])['Survived'].mean()\n",
        "print(survival_rate)\n",
        "\n",
        "max_comb = survival_rate.idxmax()\n",
        "min_comb = survival_rate.idxmin()\n",
        "\n",
        "print(\"mayor tasa de supervivencia:\",max_comb[1])\n",
        "print(\"menor tasa de supervivencia:\",min_comb[1])"
      ],
      "metadata": {
        "colab": {
          "base_uri": "https://localhost:8080/"
        },
        "id": "jLnTK23W0z52",
        "outputId": "68496ebf-9ed4-4b33-9c5c-db3644d737bf"
      },
      "execution_count": 12,
      "outputs": [
        {
          "output_type": "stream",
          "name": "stdout",
          "text": [
            "Sex     Pclass\n",
            "female  1         0.968085\n",
            "        2         0.921053\n",
            "        3         0.500000\n",
            "male    1         0.368852\n",
            "        2         0.157407\n",
            "        3         0.137026\n",
            "Name: Survived, dtype: float64\n",
            "mayor tasa de supervivencia: 1\n",
            "menor tasa de supervivencia: 3\n"
          ]
        }
      ]
    },
    {
      "cell_type": "code",
      "source": [
        "#ejercicio 2'\n",
        "FamilySize= df['Siblings/Spouses Aboard'] + df['Parents/Children Aboard']\n",
        "familias_grandes = df[FamilySize > 3]\n",
        "num_familias_grandes = len(familias_grandes)\n",
        "prop_surv_familias_grandes = familias_grandes['Survived'].mean()\n",
        "\n",
        "\n",
        "print(\"Número de pasajeros en familias grandes:\",num_familias_grandes)\n",
        "print(f\"Proporción de supervivencia en familias grandes: {prop_surv_familias_grandes:.2f}\")"
      ],
      "metadata": {
        "colab": {
          "base_uri": "https://localhost:8080/"
        },
        "id": "eFKWSzy824Tb",
        "outputId": "31f35831-ce5c-4759-e1ca-93a7a28f1540"
      },
      "execution_count": 28,
      "outputs": [
        {
          "output_type": "stream",
          "name": "stdout",
          "text": [
            "Número de pasajeros en familias grandes: 62\n",
            "Proporción de supervivencia en familias grandes: 0.16\n"
          ]
        }
      ]
    },
    {
      "cell_type": "code",
      "source": [
        "#ejercicio 3\n",
        "def clasificar_edad(x):\n",
        "  if pd.isnull(x):\n",
        "    return np.nan\n",
        "  elif x < 18:\n",
        "    return \"Menor de Edad\"\n",
        "  else:\n",
        "    return \"Mayor de Edad\"\n",
        "\n",
        "AgeGroup = df['Age'].apply(clasificar_edad)\n",
        "print(df[['Age', 'AgeGroup']])"
      ],
      "metadata": {
        "colab": {
          "base_uri": "https://localhost:8080/"
        },
        "id": "bWYyP26D5HZU",
        "outputId": "02115af5-ea41-47ea-8847-16a51770b160"
      },
      "execution_count": 38,
      "outputs": [
        {
          "output_type": "stream",
          "name": "stdout",
          "text": [
            "      Age       AgeGroup\n",
            "0    22.0  Mayor de Edad\n",
            "1    38.0  Mayor de Edad\n",
            "2    26.0  Mayor de Edad\n",
            "3    35.0  Mayor de Edad\n",
            "4    35.0  Mayor de Edad\n",
            "..    ...            ...\n",
            "882  27.0  Mayor de Edad\n",
            "883  19.0  Mayor de Edad\n",
            "884   7.0  Menor de Edad\n",
            "885  26.0  Mayor de Edad\n",
            "886  32.0  Mayor de Edad\n",
            "\n",
            "[887 rows x 2 columns]\n"
          ]
        }
      ]
    },
    {
      "cell_type": "code",
      "source": [
        "#ejercicio 4\n",
        "\n",
        "# Usando numpy\n",
        "prom_age_np = np.nanmean(df['Age'].values)\n",
        "prom_fare_np = np.nanmean(df['Fare'].values)\n",
        "\n",
        "# Usando pandas\n",
        "prom_age_pd = df['Age'].mean()\n",
        "prom_fare_pd = df['Fare'].mean()\n",
        "\n",
        "\n",
        "print(f\"Promedio Age (NumPy): {prom_age_np:.2f}\")\n",
        "print(f\"Promedio Age (Pandas): {prom_age_pd:.2f}\")\n",
        "print(f\"Promedio Fare (NumPy): {prom_fare_np:.2f}\")\n",
        "print (f\"Promedio Fare (Pandas): {prom_fare_pd:.2f}\")"
      ],
      "metadata": {
        "colab": {
          "base_uri": "https://localhost:8080/"
        },
        "id": "3YfWAvFS8S8d",
        "outputId": "2b0358a9-0e11-4176-aad4-657fd7b9fb2d"
      },
      "execution_count": 43,
      "outputs": [
        {
          "output_type": "stream",
          "name": "stdout",
          "text": [
            "Promedio Age (NumPy): 29.47\n",
            "Promedio Age (Pandas): 29.47\n",
            "Promedio Fare (NumPy): 32.31\n",
            "Promedio Fare (Pandas): 32.31\n"
          ]
        }
      ]
    },
    {
      "cell_type": "code",
      "source": [
        "#ejercicio 5\n",
        "intervalos = np.linspace(df['Fare'].min(), df['Fare'].max(), 6)\n",
        "\n",
        "FareInterval = pd.cut(df['Fare'], bins=intervalos, include_lowest=True)\n",
        "\n",
        "conteo_intervalos = df['FareInterval'].value_counts().sort_index()\n",
        "\n",
        "surv_por_intervalo = df.groupby('FareInterval')['Survived'].mean().fillna(0)\n",
        "\n",
        "\n",
        "print(\"Número de pasajeros en cada intervalo:\",conteo_intervalos)\n",
        "print(\"pasajeros en cada intervalo y sobrevivientes:\",surv_por_intervalo)\n"
      ],
      "metadata": {
        "colab": {
          "base_uri": "https://localhost:8080/"
        },
        "id": "1rkolXj-BGd7",
        "outputId": "efb23a62-3fcc-498a-d9f3-7515f3f36fa7"
      },
      "execution_count": 49,
      "outputs": [
        {
          "output_type": "stream",
          "name": "stdout",
          "text": [
            "Número de pasajeros en cada intervalo: FareInterval\n",
            "(-0.001, 102.466]     834\n",
            "(102.466, 204.932]     33\n",
            "(204.932, 307.398]     17\n",
            "(307.398, 409.863]      0\n",
            "(409.863, 512.329]      3\n",
            "Name: count, dtype: int64\n",
            "pasajeros en cada intervalo y sobrevivientes: FareInterval\n",
            "(-0.001, 102.466]     0.363309\n",
            "(102.466, 204.932]    0.757576\n",
            "(204.932, 307.398]    0.647059\n",
            "(307.398, 409.863]    0.000000\n",
            "(409.863, 512.329]    1.000000\n",
            "Name: Survived, dtype: float64\n"
          ]
        },
        {
          "output_type": "stream",
          "name": "stderr",
          "text": [
            "/tmp/ipython-input-3388597782.py:8: FutureWarning: The default of observed=False is deprecated and will be changed to True in a future version of pandas. Pass observed=False to retain current behavior or observed=True to adopt the future default and silence this warning.\n",
            "  surv_por_intervalo = df.groupby('FareInterval')['Survived'].mean().fillna(0)\n"
          ]
        }
      ]
    }
  ]
}