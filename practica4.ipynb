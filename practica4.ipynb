{
  "nbformat": 4,
  "nbformat_minor": 0,
  "metadata": {
    "colab": {
      "provenance": [],
      "authorship_tag": "ABX9TyNhVRu39inkVd38KNizjnK7",
      "include_colab_link": true
    },
    "kernelspec": {
      "name": "python3",
      "display_name": "Python 3"
    },
    "language_info": {
      "name": "python"
    }
  },
  "cells": [
    {
      "cell_type": "markdown",
      "metadata": {
        "id": "view-in-github",
        "colab_type": "text"
      },
      "source": [
        "<a href=\"https://colab.research.google.com/github/kireayom16/classfiles/blob/main/practica4.ipynb\" target=\"_parent\"><img src=\"https://colab.research.google.com/assets/colab-badge.svg\" alt=\"Open In Colab\"/></a>"
      ]
    },
    {
      "cell_type": "code",
      "execution_count": 2,
      "metadata": {
        "colab": {
          "base_uri": "https://localhost:8080/"
        },
        "collapsed": true,
        "id": "P7XK8_0lXt8T",
        "outputId": "778872be-373b-44ca-fe5a-85c3315b4782"
      },
      "outputs": [
        {
          "output_type": "stream",
          "name": "stdout",
          "text": [
            "Matriz 1: [[9 9 6]\n",
            " [5 3 7]\n",
            " [1 5 7]]\n",
            "\n",
            "Matriz 2: [[ 8  3  3]\n",
            " [10  8  5]\n",
            " [ 8  5  7]]\n"
          ]
        }
      ],
      "source": [
        "import numpy as np\n",
        "\n",
        "matriz1 = np.random.randint(1, 11, (3, 3))\n",
        "matriz2 = np.random.randint(1, 11, (3, 3))\n",
        "\n",
        "print(\"Matriz 1:\", matriz1)\n",
        "print(\"\\nMatriz 2:\", matriz2)\n"
      ]
    },
    {
      "cell_type": "code",
      "source": [
        "# Suma ambas matrices\n",
        "suma = matriz1 + matriz2\n",
        "print(\"Suma de matrices:\",suma)\n",
        "\n",
        "\n",
        "# Resta la segunda matriz de la primera\n",
        "resta = matriz1 - matriz2\n",
        "print(\"Resta (Matriz1 - Matriz2):\",resta)\n",
        "\n",
        "# Multiplica la primera matriz por 2\n",
        "multiplicacion_x2 = matriz1 * 2\n",
        "print(\"Multiplicación de Matriz1 por 2:\",multiplicacion_x2)\n",
        "\n",
        "# Multiplicación matricial entre las dos matrices\n",
        "multiplicacion_matricial = np.dot(matriz1, matriz2)\n",
        "print(\"Multiplicación matricial:\",multiplicacion_matricial)\n"
      ],
      "metadata": {
        "colab": {
          "base_uri": "https://localhost:8080/"
        },
        "collapsed": true,
        "id": "rUrxQvpTaD91",
        "outputId": "2890338f-749a-4f35-ae71-585d4d827f80"
      },
      "execution_count": 8,
      "outputs": [
        {
          "output_type": "stream",
          "name": "stdout",
          "text": [
            "Suma de matrices: [[17 12  9]\n",
            " [15 11 12]\n",
            " [ 9 10 14]]\n",
            "Resta (Matriz1 - Matriz2): [[ 1  6  3]\n",
            " [-5 -5  2]\n",
            " [-7  0  0]]\n",
            "Multiplicación de Matriz1 por 2: [[18 18 12]\n",
            " [10  6 14]\n",
            " [ 2 10 14]]\n",
            "Multiplicación matricial: [[210 129 114]\n",
            " [126  74  79]\n",
            " [114  78  77]]\n"
          ]
        }
      ]
    }
  ]
}