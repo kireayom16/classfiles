{
  "nbformat": 4,
  "nbformat_minor": 0,
  "metadata": {
    "colab": {
      "provenance": [],
      "mount_file_id": "1GKcvm-GZ41e9LtJ-QZ5aua7x_Fuwb0T2",
      "authorship_tag": "ABX9TyO3Xzk/ITqhKzCmbDhYYLGz",
      "include_colab_link": true
    },
    "kernelspec": {
      "name": "python3",
      "display_name": "Python 3"
    },
    "language_info": {
      "name": "python"
    }
  },
  "cells": [
    {
      "cell_type": "markdown",
      "metadata": {
        "id": "view-in-github",
        "colab_type": "text"
      },
      "source": [
        "<a href=\"https://colab.research.google.com/github/kireayom16/classfiles/blob/main/practica14.ipynb\" target=\"_parent\"><img src=\"https://colab.research.google.com/assets/colab-badge.svg\" alt=\"Open In Colab\"/></a>"
      ]
    },
    {
      "cell_type": "code",
      "execution_count": 5,
      "metadata": {
        "id": "WcFAAjEcCpG5"
      },
      "outputs": [],
      "source": [
        "import pandas as pd\n",
        "\n",
        "df = pd.read_csv('/content/drive/MyDrive/classfiles/unidad2/nls97.csv')"
      ]
    },
    {
      "cell_type": "code",
      "source": [
        "# Ejercicio 01: Errores Tipográficos y Valores Inconsistentes: maritalstatus\n",
        "\n",
        "print(\"Valores únicos en 'maritalstatus':\")\n",
        "print(df['maritalstatus'].unique())\n",
        "\n",
        "\n",
        "print(\"\\nFrecuencia de cada valor:\")\n",
        "print(df['maritalstatus'].value_counts())\n",
        "\n",
        "df['maritalstatus'] = df['maritalstatus'].replace('Never-Married', 'Single')\n",
        "\n",
        "\n",
        "print(\"\\nFrecuencia después de cambios:\")\n",
        "print(df['maritalstatus'].value_counts())\n"
      ],
      "metadata": {
        "colab": {
          "base_uri": "https://localhost:8080/"
        },
        "id": "w03PKXhODXai",
        "outputId": "2f181a54-0d73-4a4f-a91e-bc0787914089"
      },
      "execution_count": 6,
      "outputs": [
        {
          "output_type": "stream",
          "name": "stdout",
          "text": [
            "Valores únicos en 'maritalstatus':\n",
            "['Married' 'Never-married' nan 'Divorced' 'Separated' 'Widowed']\n",
            "\n",
            "Frecuencia de cada valor:\n",
            "maritalstatus\n",
            "Married          3066\n",
            "Never-married    2766\n",
            "Divorced          663\n",
            "Separated         154\n",
            "Widowed            23\n",
            "Name: count, dtype: int64\n",
            "\n",
            "Frecuencia después de cambios:\n",
            "maritalstatus\n",
            "Married          3066\n",
            "Never-married    2766\n",
            "Divorced          663\n",
            "Separated         154\n",
            "Widowed            23\n",
            "Name: count, dtype: int64\n"
          ]
        }
      ]
    },
    {
      "cell_type": "code",
      "source": [
        " #Ejercicio 02: Errores Tipográficos y Valores Inconsistentes\n",
        "\n",
        "\n",
        "print(\"Valores únicos en 'highestdegree':\")\n",
        "print(df['highestdegree'].unique())\n",
        "\n",
        "\n",
        "print(\"\\nFrecuencia de cada valor:\")\n",
        "print(df['highestdegree'].value_counts())\n",
        "\n",
        "\n",
        "df['highestdegree'] = (df['highestdegree'].str.lower().str.replace(r'^[0-9]+\\\\. ', '', regex=True))\n",
        "\n",
        "\n",
        "print(\"\\nNuevos valores únicos:\")\n",
        "print(df['highestdegree'].unique())"
      ],
      "metadata": {
        "colab": {
          "base_uri": "https://localhost:8080/"
        },
        "id": "a5d5zMtvDW9q",
        "outputId": "7cfd0fca-5f3a-4ce9-868f-385178eed7f9"
      },
      "execution_count": 7,
      "outputs": [
        {
          "output_type": "stream",
          "name": "stdout",
          "text": [
            "Valores únicos en 'highestdegree':\n",
            "['2. High School' '0. None' '4. Bachelors' '3. Associates' '5. Masters'\n",
            " '1. GED' '7. Professional' '6. PhD' nan]\n",
            "\n",
            "Frecuencia de cada valor:\n",
            "highestdegree\n",
            "2. High School     3667\n",
            "4. Bachelors       1673\n",
            "1. GED             1146\n",
            "0. None             953\n",
            "3. Associates       737\n",
            "5. Masters          603\n",
            "7. Professional     120\n",
            "6. PhD               54\n",
            "Name: count, dtype: int64\n",
            "\n",
            "Nuevos valores únicos:\n",
            "['2. high school' '0. none' '4. bachelors' '3. associates' '5. masters'\n",
            " '1. ged' '7. professional' '6. phd' nan]\n"
          ]
        }
      ]
    },
    {
      "cell_type": "code",
      "source": [
        "# Ejercicio 03: Alta Cardinalidad - Frecuencias Bajas\n",
        "\n",
        "\n",
        "df['marital_grouped'] = df['maritalstatus'].replace({'Widowed': 'Single/No Partner','Single': 'Single/No Partner'})\n",
        "\n",
        "\n",
        "print(\"Valores únicos en 'marital_grouped':\")\n",
        "print(df['marital_grouped'].unique())\n",
        "\n",
        "\n",
        "print(\"\\nFrecuencia de cada valor en 'marital_grouped':\")\n",
        "print(df['marital_grouped'].value_counts())"
      ],
      "metadata": {
        "colab": {
          "base_uri": "https://localhost:8080/"
        },
        "id": "_8umJHKEKdje",
        "outputId": "51e2ee46-c05a-4497-b623-9e3c02242ef8"
      },
      "execution_count": 8,
      "outputs": [
        {
          "output_type": "stream",
          "name": "stdout",
          "text": [
            "Valores únicos en 'marital_grouped':\n",
            "['Married' 'Never-married' nan 'Divorced' 'Separated' 'Single/No Partner']\n",
            "\n",
            "Frecuencia de cada valor en 'marital_grouped':\n",
            "marital_grouped\n",
            "Married              3066\n",
            "Never-married        2766\n",
            "Divorced              663\n",
            "Separated             154\n",
            "Single/No Partner      23\n",
            "Name: count, dtype: int64\n"
          ]
        }
      ]
    },
    {
      "cell_type": "code",
      "source": [
        "# Ejercicio 04: Tipos de Datos\n",
        "\n",
        "\n",
        "print(\"Tipo de datos de 'gender':\", df['gender'].dtype)\n",
        "\n",
        "\n",
        "print(\"Bytes ocupados por 'gender':\", df['gender'].memory_usage(deep=True))\n",
        "\n",
        "\n",
        "if df['gender'].dtype == 'object':\n",
        "    df['gender'] = df['gender'].astype('category')\n",
        "    print(\"\\n'gender' convertido a categoría.\")\n",
        "\n",
        "\n",
        "print(\"Bytes ocupados por 'gender' después del cambio:\", df['gender'].memory_usage(deep=True))"
      ],
      "metadata": {
        "colab": {
          "base_uri": "https://localhost:8080/"
        },
        "id": "ZqiEjATbKeDu",
        "outputId": "0c34b012-69af-47be-d428-6ab0829c4571"
      },
      "execution_count": 9,
      "outputs": [
        {
          "output_type": "stream",
          "name": "stdout",
          "text": [
            "Tipo de datos de 'gender': object\n",
            "Bytes ocupados por 'gender': 485054\n",
            "\n",
            "'gender' convertido a categoría.\n",
            "Bytes ocupados por 'gender' después del cambio: 9332\n"
          ]
        }
      ]
    }
  ]
}