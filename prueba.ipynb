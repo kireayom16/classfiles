{
  "nbformat": 4,
  "nbformat_minor": 0,
  "metadata": {
    "colab": {
      "provenance": [],
      "mount_file_id": "1yX4JlVD8i4LObL-9OL5vfLi5MXQDHamZ",
      "authorship_tag": "ABX9TyPKrbNeJ/C8MQAjI+UbSSdP",
      "include_colab_link": true
    },
    "kernelspec": {
      "name": "python3",
      "display_name": "Python 3"
    },
    "language_info": {
      "name": "python"
    }
  },
  "cells": [
    {
      "cell_type": "markdown",
      "metadata": {
        "id": "view-in-github",
        "colab_type": "text"
      },
      "source": [
        "<a href=\"https://colab.research.google.com/github/kireayom16/classfiles/blob/main/prueba.ipynb\" target=\"_parent\"><img src=\"https://colab.research.google.com/assets/colab-badge.svg\" alt=\"Open In Colab\"/></a>"
      ]
    },
    {
      "cell_type": "markdown",
      "source": [
        "# Nueva sección"
      ],
      "metadata": {
        "id": "y5PC6P0IkddE"
      }
    },
    {
      "cell_type": "markdown",
      "source": [
        "*texto en cursiva*# CONEXION DE DRIVE A GOOGLE COLAB\n"
      ],
      "metadata": {
        "id": "DWHMhZ0KkSdz"
      }
    }
  ]
}