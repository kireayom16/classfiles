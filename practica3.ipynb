{
  "nbformat": 4,
  "nbformat_minor": 0,
  "metadata": {
    "colab": {
      "provenance": [],
      "authorship_tag": "ABX9TyNcqJXdxl0HPCEn1GCV2U8i",
      "include_colab_link": true
    },
    "kernelspec": {
      "name": "python3",
      "display_name": "Python 3"
    },
    "language_info": {
      "name": "python"
    }
  },
  "cells": [
    {
      "cell_type": "markdown",
      "metadata": {
        "id": "view-in-github",
        "colab_type": "text"
      },
      "source": [
        "<a href=\"https://colab.research.google.com/github/kireayom16/classfiles/blob/main/practica3.ipynb\" target=\"_parent\"><img src=\"https://colab.research.google.com/assets/colab-badge.svg\" alt=\"Open In Colab\"/></a>"
      ]
    },
    {
      "cell_type": "code",
      "source": [
        "import numpy as np\n",
        "\n",
        "arreglo = np.random.randint(1, 101, 20)\n",
        "\n",
        "print(arreglo)"
      ],
      "metadata": {
        "id": "IytevVyHNCr3",
        "colab": {
          "base_uri": "https://localhost:8080/"
        },
        "outputId": "7ef9ba09-d312-43a6-89a3-c7ec3454fc2e"
      },
      "execution_count": 1,
      "outputs": [
        {
          "output_type": "stream",
          "name": "stdout",
          "text": [
            "[36 84 33 37 80 32 16 61 88 26 26  8 36 78  2 17 32 76 45 90]\n"
          ]
        }
      ]
    },
    {
      "cell_type": "code",
      "source": [
        "# valor máximo\n",
        "maximo = np.max(arreglo)\n",
        "print(\"Valor máximo:\",maximo)\n",
        "\n",
        "# valor mínimo\n",
        "minimo = np.min(arreglo)\n",
        "print(\"Valor mínimo:\",minimo)\n",
        "\n",
        "# Calcular la media\n",
        "media = np.mean(arreglo)\n",
        "print(\"Media:\",media)\n",
        "\n",
        "# Sumar 10 a cada elemento del arreglo\n",
        "arreglo_suma = arreglo + 10\n",
        "print(\"Arreglo después de sumar 10 a cada elemento:\", arreglo_suma)"
      ],
      "metadata": {
        "colab": {
          "base_uri": "https://localhost:8080/"
        },
        "id": "5M1Xs1byQBUr",
        "outputId": "0b268224-fa9e-4986-9d30-e6c6bac33ef1"
      },
      "execution_count": 6,
      "outputs": [
        {
          "output_type": "stream",
          "name": "stdout",
          "text": [
            "Valor máximo: 90\n",
            "Valor mínimo: 2\n",
            "Media: 45.15\n",
            "Arreglo después de sumar 10 a cada elemento: [ 46  94  43  47  90  42  26  71  98  36  36  18  46  88  12  27  42  86\n",
            "  55 100]\n"
          ]
        }
      ]
    }
  ]
}