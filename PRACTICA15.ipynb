{
  "nbformat": 4,
  "nbformat_minor": 0,
  "metadata": {
    "colab": {
      "provenance": [],
      "mount_file_id": "1OReu-gm9wVLg02BRHiASL3Gui1C--8wF",
      "authorship_tag": "ABX9TyMGzmep7a00qz9o+SPGAO6J",
      "include_colab_link": true
    },
    "kernelspec": {
      "name": "python3",
      "display_name": "Python 3"
    },
    "language_info": {
      "name": "python"
    }
  },
  "cells": [
    {
      "cell_type": "markdown",
      "metadata": {
        "id": "view-in-github",
        "colab_type": "text"
      },
      "source": [
        "<a href=\"https://colab.research.google.com/github/kireayom16/classfiles/blob/main/PRACTICA15.ipynb\" target=\"_parent\"><img src=\"https://colab.research.google.com/assets/colab-badge.svg\" alt=\"Open In Colab\"/></a>"
      ]
    },
    {
      "cell_type": "code",
      "execution_count": 2,
      "metadata": {
        "id": "O0x1LGjttcyU"
      },
      "outputs": [],
      "source": [
        "import pandas as pd\n",
        "\n",
        "df = pd.read_csv('/content/drive/MyDrive/classfiles/unidad2/Airdata.csv')\n",
        "\n"
      ]
    },
    {
      "cell_type": "code",
      "source": [
        "# Ejercicio 01: Tipo de Datos Correcto\n",
        "\n",
        "print(\"Tipos de datos iniciales:\\n\", df.dtypes) # Revisar tipos de datos\n",
        "\n",
        "df['DateTime'] = pd.to_datetime(df['DateTime'], errors='coerce') # Convertir 'DateTime' a formato datetime si no lo está\n",
        "\n",
        "print(\"\\nTipos de datos después de conversión:\\n\", df.dtypes) # Mostrar tipos de datos actualizados\n",
        "\n",
        "# Imprimir las primeras 3 líneas\n",
        "print(\"\\nPrimeras 3 líneas del dataset:\\n\", df.head(3))"
      ],
      "metadata": {
        "colab": {
          "base_uri": "https://localhost:8080/"
        },
        "id": "M41u9jv5t5fT",
        "outputId": "3832096a-9490-4da0-8c38-f28e2c7d0f68"
      },
      "execution_count": 4,
      "outputs": [
        {
          "output_type": "stream",
          "name": "stdout",
          "text": [
            "Tipos de datos iniciales:\n",
            " DateTime          datetime64[ns]\n",
            "Temperature              float64\n",
            "Humidity                   int64\n",
            "Wind_Speed               float64\n",
            "Wind_Direction           float64\n",
            "NO2_Location_A           float64\n",
            "NO2_Location_B           float64\n",
            "NO2_Location_C           float64\n",
            "dtype: object\n",
            "\n",
            "Tipos de datos después de conversión:\n",
            " DateTime          datetime64[ns]\n",
            "Temperature              float64\n",
            "Humidity                   int64\n",
            "Wind_Speed               float64\n",
            "Wind_Direction           float64\n",
            "NO2_Location_A           float64\n",
            "NO2_Location_B           float64\n",
            "NO2_Location_C           float64\n",
            "dtype: object\n",
            "\n",
            "Primeras 3 líneas del dataset:\n",
            "              DateTime  Temperature  Humidity  Wind_Speed  Wind_Direction  \\\n",
            "0 2020-01-01 00:00:00     2.180529        87    1.484318        75.96376   \n",
            "1 2020-01-01 01:00:00     1.490529        89    2.741678       113.19859   \n",
            "2 2020-01-01 02:00:00     1.690529        85    3.563818       135.00000   \n",
            "\n",
            "   NO2_Location_A  NO2_Location_B  NO2_Location_C  \n",
            "0           39.23           52.88           62.37  \n",
            "1           38.30           44.95           52.53  \n",
            "2             NaN           48.40           54.80  \n"
          ]
        }
      ]
    },
    {
      "cell_type": "code",
      "source": [
        "# Ejercicio 02: Extraer componentes de fecha y tiempo\n",
        "\n",
        "df['Year'] = df['DateTime'].dt.year\n",
        "df['Month'] = df['DateTime'].dt.month\n",
        "df['Day'] = df['DateTime'].dt.day\n",
        "df['Hour'] = df['DateTime'].dt.hour\n",
        "\n",
        "print(\"\\nPrimeras 3 líneas con columnas de fecha desglosadas:\\n\", df.head(3))"
      ],
      "metadata": {
        "colab": {
          "base_uri": "https://localhost:8080/"
        },
        "id": "QaRkU20Uug52",
        "outputId": "c8dea26e-4e04-4353-b25c-3bfda39103f7"
      },
      "execution_count": 5,
      "outputs": [
        {
          "output_type": "stream",
          "name": "stdout",
          "text": [
            "\n",
            "Primeras 3 líneas con columnas de fecha desglosadas:\n",
            "              DateTime  Temperature  Humidity  Wind_Speed  Wind_Direction  \\\n",
            "0 2020-01-01 00:00:00     2.180529        87    1.484318        75.96376   \n",
            "1 2020-01-01 01:00:00     1.490529        89    2.741678       113.19859   \n",
            "2 2020-01-01 02:00:00     1.690529        85    3.563818       135.00000   \n",
            "\n",
            "   NO2_Location_A  NO2_Location_B  NO2_Location_C  Year  Month  Day  Hour  \n",
            "0           39.23           52.88           62.37  2020      1    1     0  \n",
            "1           38.30           44.95           52.53  2020      1    1     1  \n",
            "2             NaN           48.40           54.80  2020      1    1     2  \n"
          ]
        }
      ]
    },
    {
      "cell_type": "code",
      "source": [
        "# Ejercicio 03: Aritmética - Suma de Intervalos (timedelta)\n",
        "\n",
        "from datetime import timedelta\n",
        "\n",
        "df['DateTime_plus'] = df['DateTime'] + timedelta(days=10, hours=7, minutes=15)\n",
        "\n",
        "print(\"\\nColumna 'DateTime' y 'DateTime_plus':\\n\", df[['DateTime','DateTime_plus']].head(3))"
      ],
      "metadata": {
        "colab": {
          "base_uri": "https://localhost:8080/"
        },
        "id": "k89jEgAGvLmm",
        "outputId": "88190b45-601c-43c7-e480-2294c08b55b1"
      },
      "execution_count": 6,
      "outputs": [
        {
          "output_type": "stream",
          "name": "stdout",
          "text": [
            "\n",
            "Columna 'DateTime' y 'DateTime_plus':\n",
            "              DateTime       DateTime_plus\n",
            "0 2020-01-01 00:00:00 2020-01-11 07:15:00\n",
            "1 2020-01-01 01:00:00 2020-01-11 08:15:00\n",
            "2 2020-01-01 02:00:00 2020-01-11 09:15:00\n"
          ]
        }
      ]
    },
    {
      "cell_type": "code",
      "source": [
        "# Ejercicio 04: Timestamp\n",
        "\n",
        "df['Unix_Timestamp'] = df['DateTime'].astype(int) // 10**9   # convertir a segundos\n",
        "\n",
        "print(\"\\nDateTime y Unix Timestamp:\\n\", df[['DateTime','Unix_Timestamp']].head(3))\n"
      ],
      "metadata": {
        "colab": {
          "base_uri": "https://localhost:8080/"
        },
        "id": "6XhRSGo8w2-t",
        "outputId": "016794a2-d165-49c5-ab55-565c1c0a7f9e"
      },
      "execution_count": 7,
      "outputs": [
        {
          "output_type": "stream",
          "name": "stdout",
          "text": [
            "\n",
            "DateTime y Unix Timestamp:\n",
            "              DateTime  Unix_Timestamp\n",
            "0 2020-01-01 00:00:00      1577836800\n",
            "1 2020-01-01 01:00:00      1577840400\n",
            "2 2020-01-01 02:00:00      1577844000\n"
          ]
        }
      ]
    },
    {
      "cell_type": "code",
      "source": [
        "# Ejercicio 05: Filtrado de Fechas\n",
        "\n",
        "filtrado = df[df['DateTime'] > '2020-11-01']\n",
        "\n",
        "print(\"\\nFechas mayores a 2020-11-01:\\n\", filtrado)"
      ],
      "metadata": {
        "colab": {
          "base_uri": "https://localhost:8080/"
        },
        "id": "zYmHx-toxQLn",
        "outputId": "546ca466-69b2-40e3-d9cc-5444db5db14e"
      },
      "execution_count": 8,
      "outputs": [
        {
          "output_type": "stream",
          "name": "stdout",
          "text": [
            "\n",
            "Fechas mayores a 2020-11-01:\n",
            "                 DateTime  Temperature  Humidity  Wind_Speed  Wind_Direction  \\\n",
            "7321 2020-11-01 01:00:00    13.620529        58    6.638072       130.60129   \n",
            "7322 2020-11-01 02:00:00    13.980529        40    6.618519       157.61987   \n",
            "7323 2020-11-01 03:00:00    13.010529        43    8.209263       164.74487   \n",
            "7324 2020-11-01 04:00:00    12.190529        51    7.568566       154.65382   \n",
            "7325 2020-11-01 05:00:00    12.510529        59    7.594208       148.57043   \n",
            "...                  ...          ...       ...         ...             ...   \n",
            "8779 2020-12-31 19:00:00     4.920528        72    4.553680       251.56506   \n",
            "8780 2020-12-31 20:00:00     4.990529        74    3.259939       186.34020   \n",
            "8781 2020-12-31 21:00:00     4.360529        84   10.587917       252.18112   \n",
            "8782 2020-12-31 22:00:00     3.820528        88    8.435069       219.80557   \n",
            "8783 2020-12-31 23:00:00     3.170529        89    6.792466       212.00539   \n",
            "\n",
            "      NO2_Location_A  NO2_Location_B  NO2_Location_C  Year  Month  Day  Hour  \\\n",
            "7321           17.50           23.88           44.07  2020     11    1     1   \n",
            "7322           13.38           18.92           35.80  2020     11    1     2   \n",
            "7323           11.95           13.95           30.15  2020     11    1     3   \n",
            "7324           10.10           14.35           31.45  2020     11    1     4   \n",
            "7325           10.30           14.42           32.55  2020     11    1     5   \n",
            "...              ...             ...             ...   ...    ...  ...   ...   \n",
            "8779           53.44           32.65           66.82  2020     12   31    19   \n",
            "8780           49.80           34.03           67.31  2020     12   31    20   \n",
            "8781           43.32           25.55           59.33  2020     12   31    21   \n",
            "8782           39.88           19.90           43.70  2020     12   31    22   \n",
            "8783           39.04           30.33           46.87  2020     12   31    23   \n",
            "\n",
            "           DateTime_plus  Unix_Timestamp  \n",
            "7321 2020-11-11 08:15:00      1604192400  \n",
            "7322 2020-11-11 09:15:00      1604196000  \n",
            "7323 2020-11-11 10:15:00      1604199600  \n",
            "7324 2020-11-11 11:15:00      1604203200  \n",
            "7325 2020-11-11 12:15:00      1604206800  \n",
            "...                  ...             ...  \n",
            "8779 2021-01-11 02:15:00      1609441200  \n",
            "8780 2021-01-11 03:15:00      1609444800  \n",
            "8781 2021-01-11 04:15:00      1609448400  \n",
            "8782 2021-01-11 05:15:00      1609452000  \n",
            "8783 2021-01-11 06:15:00      1609455600  \n",
            "\n",
            "[1463 rows x 14 columns]\n"
          ]
        }
      ]
    }
  ]
}