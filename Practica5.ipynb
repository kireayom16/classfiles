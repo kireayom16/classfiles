{
  "nbformat": 4,
  "nbformat_minor": 0,
  "metadata": {
    "colab": {
      "provenance": [],
      "authorship_tag": "ABX9TyNM3GsHIR/wvae7vr/6mqMv",
      "include_colab_link": true
    },
    "kernelspec": {
      "name": "python3",
      "display_name": "Python 3"
    },
    "language_info": {
      "name": "python"
    }
  },
  "cells": [
    {
      "cell_type": "markdown",
      "metadata": {
        "id": "view-in-github",
        "colab_type": "text"
      },
      "source": [
        "<a href=\"https://colab.research.google.com/github/kireayom16/classfiles/blob/main/Practica5.ipynb\" target=\"_parent\"><img src=\"https://colab.research.google.com/assets/colab-badge.svg\" alt=\"Open In Colab\"/></a>"
      ]
    },
    {
      "cell_type": "code",
      "execution_count": 1,
      "metadata": {
        "colab": {
          "base_uri": "https://localhost:8080/"
        },
        "id": "pTsq-jBqdMZv",
        "outputId": "1a7acd57-dc8b-482b-b270-d6c5f28976f5"
      },
      "outputs": [
        {
          "output_type": "stream",
          "name": "stdout",
          "text": [
            "[44 11 40 24 22 37 16 35 30  2 35 21 32 11 40]\n"
          ]
        }
      ],
      "source": [
        "import numpy as np\n",
        "\n",
        "arreglo = np.random.randint(1, 51, 15)\n",
        "print(arreglo)\n"
      ]
    },
    {
      "cell_type": "code",
      "source": [
        "# máscara booleana\n",
        "mascara = arreglo > 25\n",
        "\n",
        "#  elementos mayores que 25\n",
        "elementos_mayores = arreglo[mascara]\n",
        "print(\"Elementos mayores que 25:\", elementos_mayores)\n",
        "\n",
        "#cuántos elementos son mayores que 25\n",
        "cantidad = np.sum(mascara)\n",
        "print(\"Numero de elementos mayores que 25:\",cantidad)"
      ],
      "metadata": {
        "colab": {
          "base_uri": "https://localhost:8080/"
        },
        "id": "54qVU-4Zu8s_",
        "outputId": "206312eb-0b6c-4c5c-98d6-f617ec5e80a8"
      },
      "execution_count": 13,
      "outputs": [
        {
          "output_type": "stream",
          "name": "stdout",
          "text": [
            "Elementos mayores que 25: [44 40 37 35 30 35 32 40]\n",
            "Numero de elementos mayores que 25: 8\n"
          ]
        }
      ]
    }
  ]
}